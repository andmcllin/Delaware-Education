{
 "cells": [
  {
   "cell_type": "code",
   "execution_count": 205,
   "metadata": {},
   "outputs": [],
   "source": [
    "import pandas as pd\n",
    "import numpy as np"
   ]
  },
  {
   "cell_type": "markdown",
   "metadata": {},
   "source": [
    "Import Student Assessment Performance dataset, for now I am interested in the result of all students, so I will not be doing a breakdown by different demographics. This can change later on if necessary."
   ]
  },
  {
   "cell_type": "code",
   "execution_count": 206,
   "metadata": {},
   "outputs": [
    {
     "data": {
      "text/plain": [
       "Index(['School Year', 'District Code', 'District', 'School Code',\n",
       "       'Organization', 'Assessment Name', 'ContentArea', 'Race', 'Gender',\n",
       "       'Grade', 'SpecialDemo', 'Geography', 'SubGroup', 'RowStatus', 'Tested',\n",
       "       'Proficient', 'PctProficient', 'ScaleScoreAvg'],\n",
       "      dtype='object')"
      ]
     },
     "execution_count": 206,
     "metadata": {},
     "output_type": "execute_result"
    }
   ],
   "source": [
    "student_assessment_df = pd.read_csv('Student_Assessment_Performance.csv')\n",
    "student_assessment_df.columns"
   ]
  },
  {
   "cell_type": "code",
   "execution_count": 207,
   "metadata": {},
   "outputs": [
    {
     "data": {
      "text/html": [
       "<div>\n",
       "<style scoped>\n",
       "    .dataframe tbody tr th:only-of-type {\n",
       "        vertical-align: middle;\n",
       "    }\n",
       "\n",
       "    .dataframe tbody tr th {\n",
       "        vertical-align: top;\n",
       "    }\n",
       "\n",
       "    .dataframe thead th {\n",
       "        text-align: right;\n",
       "    }\n",
       "</style>\n",
       "<table border=\"1\" class=\"dataframe\">\n",
       "  <thead>\n",
       "    <tr style=\"text-align: right;\">\n",
       "      <th></th>\n",
       "      <th>School Year</th>\n",
       "      <th>District Code</th>\n",
       "      <th>District</th>\n",
       "      <th>School Code</th>\n",
       "      <th>Organization</th>\n",
       "      <th>Assessment Name</th>\n",
       "      <th>ContentArea</th>\n",
       "      <th>Race</th>\n",
       "      <th>Gender</th>\n",
       "      <th>Grade</th>\n",
       "      <th>SpecialDemo</th>\n",
       "      <th>Geography</th>\n",
       "      <th>SubGroup</th>\n",
       "      <th>RowStatus</th>\n",
       "      <th>Tested</th>\n",
       "      <th>Proficient</th>\n",
       "      <th>PctProficient</th>\n",
       "      <th>ScaleScoreAvg</th>\n",
       "    </tr>\n",
       "  </thead>\n",
       "  <tbody>\n",
       "    <tr>\n",
       "      <th>102</th>\n",
       "      <td>2015</td>\n",
       "      <td>0</td>\n",
       "      <td>State of Delaware</td>\n",
       "      <td>0</td>\n",
       "      <td>State of Delaware</td>\n",
       "      <td>Smarter Balanced Summative Assessment</td>\n",
       "      <td>MATH</td>\n",
       "      <td>All Students</td>\n",
       "      <td>All Students</td>\n",
       "      <td>All Students</td>\n",
       "      <td>All Students</td>\n",
       "      <td>All Students</td>\n",
       "      <td>All Students</td>\n",
       "      <td>REPORTED</td>\n",
       "      <td>67124.0</td>\n",
       "      <td>26016.0</td>\n",
       "      <td>38.76</td>\n",
       "      <td>NaN</td>\n",
       "    </tr>\n",
       "    <tr>\n",
       "      <th>239</th>\n",
       "      <td>2015</td>\n",
       "      <td>10</td>\n",
       "      <td>Caesar Rodney School District</td>\n",
       "      <td>0</td>\n",
       "      <td>Caesar Rodney School District</td>\n",
       "      <td>DCAS Alternate Assessment</td>\n",
       "      <td>ELA</td>\n",
       "      <td>All Students</td>\n",
       "      <td>All Students</td>\n",
       "      <td>All Students</td>\n",
       "      <td>All Students</td>\n",
       "      <td>All Students</td>\n",
       "      <td>All Students</td>\n",
       "      <td>REPORTED</td>\n",
       "      <td>141.0</td>\n",
       "      <td>80.0</td>\n",
       "      <td>56.74</td>\n",
       "      <td>NaN</td>\n",
       "    </tr>\n",
       "    <tr>\n",
       "      <th>379</th>\n",
       "      <td>2015</td>\n",
       "      <td>10</td>\n",
       "      <td>Caesar Rodney School District</td>\n",
       "      <td>0</td>\n",
       "      <td>Caesar Rodney School District</td>\n",
       "      <td>DCAS Alternate Assessment</td>\n",
       "      <td>MAT</td>\n",
       "      <td>All Students</td>\n",
       "      <td>All Students</td>\n",
       "      <td>All Students</td>\n",
       "      <td>All Students</td>\n",
       "      <td>All Students</td>\n",
       "      <td>All Students</td>\n",
       "      <td>REPORTED</td>\n",
       "      <td>141.0</td>\n",
       "      <td>71.0</td>\n",
       "      <td>50.35</td>\n",
       "      <td>NaN</td>\n",
       "    </tr>\n",
       "    <tr>\n",
       "      <th>447</th>\n",
       "      <td>2015</td>\n",
       "      <td>10</td>\n",
       "      <td>Caesar Rodney School District</td>\n",
       "      <td>0</td>\n",
       "      <td>Caesar Rodney School District</td>\n",
       "      <td>DCAS Alternate Assessment</td>\n",
       "      <td>SCI</td>\n",
       "      <td>All Students</td>\n",
       "      <td>All Students</td>\n",
       "      <td>All Students</td>\n",
       "      <td>All Students</td>\n",
       "      <td>All Students</td>\n",
       "      <td>All Students</td>\n",
       "      <td>REPORTED</td>\n",
       "      <td>41.0</td>\n",
       "      <td>23.0</td>\n",
       "      <td>56.10</td>\n",
       "      <td>NaN</td>\n",
       "    </tr>\n",
       "    <tr>\n",
       "      <th>503</th>\n",
       "      <td>2015</td>\n",
       "      <td>10</td>\n",
       "      <td>Caesar Rodney School District</td>\n",
       "      <td>0</td>\n",
       "      <td>Caesar Rodney School District</td>\n",
       "      <td>DCAS Alternate Assessment</td>\n",
       "      <td>SOC</td>\n",
       "      <td>All Students</td>\n",
       "      <td>All Students</td>\n",
       "      <td>All Students</td>\n",
       "      <td>All Students</td>\n",
       "      <td>All Students</td>\n",
       "      <td>All Students</td>\n",
       "      <td>REPORTED</td>\n",
       "      <td>57.0</td>\n",
       "      <td>18.0</td>\n",
       "      <td>31.58</td>\n",
       "      <td>NaN</td>\n",
       "    </tr>\n",
       "  </tbody>\n",
       "</table>\n",
       "</div>"
      ],
      "text/plain": [
       "     School Year  District Code                       District  School Code  \\\n",
       "102         2015              0              State of Delaware            0   \n",
       "239         2015             10  Caesar Rodney School District            0   \n",
       "379         2015             10  Caesar Rodney School District            0   \n",
       "447         2015             10  Caesar Rodney School District            0   \n",
       "503         2015             10  Caesar Rodney School District            0   \n",
       "\n",
       "                      Organization                        Assessment Name  \\\n",
       "102              State of Delaware  Smarter Balanced Summative Assessment   \n",
       "239  Caesar Rodney School District              DCAS Alternate Assessment   \n",
       "379  Caesar Rodney School District              DCAS Alternate Assessment   \n",
       "447  Caesar Rodney School District              DCAS Alternate Assessment   \n",
       "503  Caesar Rodney School District              DCAS Alternate Assessment   \n",
       "\n",
       "    ContentArea          Race        Gender         Grade   SpecialDemo  \\\n",
       "102        MATH  All Students  All Students  All Students  All Students   \n",
       "239         ELA  All Students  All Students  All Students  All Students   \n",
       "379         MAT  All Students  All Students  All Students  All Students   \n",
       "447         SCI  All Students  All Students  All Students  All Students   \n",
       "503         SOC  All Students  All Students  All Students  All Students   \n",
       "\n",
       "        Geography      SubGroup RowStatus   Tested  Proficient  PctProficient  \\\n",
       "102  All Students  All Students  REPORTED  67124.0     26016.0          38.76   \n",
       "239  All Students  All Students  REPORTED    141.0        80.0          56.74   \n",
       "379  All Students  All Students  REPORTED    141.0        71.0          50.35   \n",
       "447  All Students  All Students  REPORTED     41.0        23.0          56.10   \n",
       "503  All Students  All Students  REPORTED     57.0        18.0          31.58   \n",
       "\n",
       "     ScaleScoreAvg  \n",
       "102            NaN  \n",
       "239            NaN  \n",
       "379            NaN  \n",
       "447            NaN  \n",
       "503            NaN  "
      ]
     },
     "execution_count": 207,
     "metadata": {},
     "output_type": "execute_result"
    }
   ],
   "source": [
    "student_assessment_df = student_assessment_df[student_assessment_df['Race'] == 'All Students']\n",
    "student_assessment_df = student_assessment_df[student_assessment_df['Gender'] == 'All Students']\n",
    "student_assessment_df = student_assessment_df[student_assessment_df['SpecialDemo'] == 'All Students']\n",
    "student_assessment_df = student_assessment_df[student_assessment_df['RowStatus'] == 'REPORTED']\n",
    "student_assessment_df = student_assessment_df[student_assessment_df['Grade'] == 'All Students']\n",
    "student_assessment_df.head()"
   ]
  },
  {
   "cell_type": "code",
   "execution_count": 208,
   "metadata": {},
   "outputs": [
    {
     "data": {
      "text/plain": [
       "(1010.6339727105748, 933.6513346677887, 574.69, 2655.79, 7.8)"
      ]
     },
     "execution_count": 208,
     "metadata": {},
     "output_type": "execute_result"
    }
   ],
   "source": [
    "student_assessment_df['ScaleScoreAvg'].mean(), student_assessment_df['ScaleScoreAvg'].std(), student_assessment_df['ScaleScoreAvg'].median(), \\\n",
    "    student_assessment_df['ScaleScoreAvg'].max(), student_assessment_df['ScaleScoreAvg'].min()"
   ]
  },
  {
   "cell_type": "markdown",
   "metadata": {},
   "source": [
    "The column of interest for me is the PctProficient Column. This will be the target of my analysis. ScaleScoreAvg is another column measuring a similar thing I could consider but I decided against it for a few reasons. It is missing much more data, and it is unclear how the scores were derived. PctProficient comes from the 'Tested' and 'Proficient' columns, meaning those will correlate so I will get rid of them. Also all my demographic columns are now extraneous so I will delete them too."
   ]
  },
  {
   "cell_type": "code",
   "execution_count": 209,
   "metadata": {},
   "outputs": [
    {
     "data": {
      "text/plain": [
       "Index(['School Year', 'District Code', 'District', 'School Code',\n",
       "       'Organization', 'Assessment Name', 'ContentArea', 'PctProficient'],\n",
       "      dtype='object')"
      ]
     },
     "execution_count": 209,
     "metadata": {},
     "output_type": "execute_result"
    }
   ],
   "source": [
    "student_assessment_df = student_assessment_df.drop(columns=['Race', 'Gender', 'SpecialDemo', 'RowStatus', 'Grade', 'SubGroup', 'Geography', 'ScaleScoreAvg','Tested','Proficient'])\n",
    "student_assessment_df.columns"
   ]
  },
  {
   "cell_type": "markdown",
   "metadata": {},
   "source": [
    "Now I will get the Enrollment information from the next dataset. This will give me the number of students enrolled at each school."
   ]
  },
  {
   "cell_type": "code",
   "execution_count": 210,
   "metadata": {},
   "outputs": [
    {
     "data": {
      "text/plain": [
       "Index(['School Year', 'District Code', 'District', 'School Code',\n",
       "       'Organization', 'Race', 'Gender', 'Grade', 'SpecialDemo', 'Geography',\n",
       "       'SubGroup', 'RowStatus', 'Students', 'EOYEnrollment',\n",
       "       'PctOfEOYEnrollment', 'FallEnrollment'],\n",
       "      dtype='object')"
      ]
     },
     "execution_count": 210,
     "metadata": {},
     "output_type": "execute_result"
    }
   ],
   "source": [
    "student_enrollment_df = pd.read_csv('Student_Enrollment.csv')\n",
    "student_enrollment_df.columns"
   ]
  },
  {
   "cell_type": "markdown",
   "metadata": {},
   "source": [
    "I notice that the columns School Year, District Code, District, School Code, and Organization are carried over from the assessment dataframe so I will use those later in a merge. I want to count every student so I will get rid of the rows that count by demographics once again."
   ]
  },
  {
   "cell_type": "code",
   "execution_count": 211,
   "metadata": {},
   "outputs": [
    {
     "data": {
      "text/html": [
       "<div>\n",
       "<style scoped>\n",
       "    .dataframe tbody tr th:only-of-type {\n",
       "        vertical-align: middle;\n",
       "    }\n",
       "\n",
       "    .dataframe tbody tr th {\n",
       "        vertical-align: top;\n",
       "    }\n",
       "\n",
       "    .dataframe thead th {\n",
       "        text-align: right;\n",
       "    }\n",
       "</style>\n",
       "<table border=\"1\" class=\"dataframe\">\n",
       "  <thead>\n",
       "    <tr style=\"text-align: right;\">\n",
       "      <th></th>\n",
       "      <th>School Year</th>\n",
       "      <th>District Code</th>\n",
       "      <th>District</th>\n",
       "      <th>School Code</th>\n",
       "      <th>Organization</th>\n",
       "      <th>Race</th>\n",
       "      <th>Gender</th>\n",
       "      <th>Grade</th>\n",
       "      <th>SpecialDemo</th>\n",
       "      <th>Geography</th>\n",
       "      <th>SubGroup</th>\n",
       "      <th>RowStatus</th>\n",
       "      <th>Students</th>\n",
       "      <th>EOYEnrollment</th>\n",
       "      <th>PctOfEOYEnrollment</th>\n",
       "      <th>FallEnrollment</th>\n",
       "    </tr>\n",
       "  </thead>\n",
       "  <tbody>\n",
       "    <tr>\n",
       "      <th>2034</th>\n",
       "      <td>2015</td>\n",
       "      <td>0</td>\n",
       "      <td>State of Delaware</td>\n",
       "      <td>0</td>\n",
       "      <td>State of Delaware</td>\n",
       "      <td>All Students</td>\n",
       "      <td>All Students</td>\n",
       "      <td>All Students</td>\n",
       "      <td>All Students</td>\n",
       "      <td>All Students</td>\n",
       "      <td>All Students</td>\n",
       "      <td>REDACTED</td>\n",
       "      <td>NaN</td>\n",
       "      <td>141336.0</td>\n",
       "      <td>NaN</td>\n",
       "      <td>134932.0</td>\n",
       "    </tr>\n",
       "    <tr>\n",
       "      <th>3543</th>\n",
       "      <td>2015</td>\n",
       "      <td>10</td>\n",
       "      <td>Caesar Rodney School District</td>\n",
       "      <td>0</td>\n",
       "      <td>Caesar Rodney School District</td>\n",
       "      <td>All Students</td>\n",
       "      <td>All Students</td>\n",
       "      <td>All Students</td>\n",
       "      <td>All Students</td>\n",
       "      <td>All Students</td>\n",
       "      <td>All Students</td>\n",
       "      <td>REDACTED</td>\n",
       "      <td>NaN</td>\n",
       "      <td>8333.0</td>\n",
       "      <td>NaN</td>\n",
       "      <td>7739.0</td>\n",
       "    </tr>\n",
       "    <tr>\n",
       "      <th>4013</th>\n",
       "      <td>2015</td>\n",
       "      <td>10</td>\n",
       "      <td>Caesar Rodney School District</td>\n",
       "      <td>610</td>\n",
       "      <td>Allen Frear Elementary School</td>\n",
       "      <td>All Students</td>\n",
       "      <td>All Students</td>\n",
       "      <td>All Students</td>\n",
       "      <td>All Students</td>\n",
       "      <td>All Students</td>\n",
       "      <td>All Students</td>\n",
       "      <td>REDACTED</td>\n",
       "      <td>NaN</td>\n",
       "      <td>746.0</td>\n",
       "      <td>NaN</td>\n",
       "      <td>699.0</td>\n",
       "    </tr>\n",
       "    <tr>\n",
       "      <th>4235</th>\n",
       "      <td>2015</td>\n",
       "      <td>10</td>\n",
       "      <td>Caesar Rodney School District</td>\n",
       "      <td>611</td>\n",
       "      <td>J. Ralph McIlvaine Early Childhood Center</td>\n",
       "      <td>All Students</td>\n",
       "      <td>All Students</td>\n",
       "      <td>All Students</td>\n",
       "      <td>All Students</td>\n",
       "      <td>All Students</td>\n",
       "      <td>All Students</td>\n",
       "      <td>REDACTED</td>\n",
       "      <td>NaN</td>\n",
       "      <td>642.0</td>\n",
       "      <td>NaN</td>\n",
       "      <td>551.0</td>\n",
       "    </tr>\n",
       "    <tr>\n",
       "      <th>4616</th>\n",
       "      <td>2015</td>\n",
       "      <td>10</td>\n",
       "      <td>Caesar Rodney School District</td>\n",
       "      <td>612</td>\n",
       "      <td>Major George S. Welch Elementary School</td>\n",
       "      <td>All Students</td>\n",
       "      <td>All Students</td>\n",
       "      <td>All Students</td>\n",
       "      <td>All Students</td>\n",
       "      <td>All Students</td>\n",
       "      <td>All Students</td>\n",
       "      <td>REDACTED</td>\n",
       "      <td>NaN</td>\n",
       "      <td>478.0</td>\n",
       "      <td>NaN</td>\n",
       "      <td>436.0</td>\n",
       "    </tr>\n",
       "  </tbody>\n",
       "</table>\n",
       "</div>"
      ],
      "text/plain": [
       "      School Year  District Code                       District  School Code  \\\n",
       "2034         2015              0              State of Delaware            0   \n",
       "3543         2015             10  Caesar Rodney School District            0   \n",
       "4013         2015             10  Caesar Rodney School District          610   \n",
       "4235         2015             10  Caesar Rodney School District          611   \n",
       "4616         2015             10  Caesar Rodney School District          612   \n",
       "\n",
       "                                   Organization          Race        Gender  \\\n",
       "2034                          State of Delaware  All Students  All Students   \n",
       "3543              Caesar Rodney School District  All Students  All Students   \n",
       "4013              Allen Frear Elementary School  All Students  All Students   \n",
       "4235  J. Ralph McIlvaine Early Childhood Center  All Students  All Students   \n",
       "4616    Major George S. Welch Elementary School  All Students  All Students   \n",
       "\n",
       "             Grade   SpecialDemo     Geography      SubGroup RowStatus  \\\n",
       "2034  All Students  All Students  All Students  All Students  REDACTED   \n",
       "3543  All Students  All Students  All Students  All Students  REDACTED   \n",
       "4013  All Students  All Students  All Students  All Students  REDACTED   \n",
       "4235  All Students  All Students  All Students  All Students  REDACTED   \n",
       "4616  All Students  All Students  All Students  All Students  REDACTED   \n",
       "\n",
       "      Students  EOYEnrollment  PctOfEOYEnrollment  FallEnrollment  \n",
       "2034       NaN       141336.0                 NaN        134932.0  \n",
       "3543       NaN         8333.0                 NaN          7739.0  \n",
       "4013       NaN          746.0                 NaN           699.0  \n",
       "4235       NaN          642.0                 NaN           551.0  \n",
       "4616       NaN          478.0                 NaN           436.0  "
      ]
     },
     "execution_count": 211,
     "metadata": {},
     "output_type": "execute_result"
    }
   ],
   "source": [
    "student_enrollment_df = student_enrollment_df[student_enrollment_df['Race'] == 'All Students']\n",
    "student_enrollment_df = student_enrollment_df[student_enrollment_df['Gender'] == 'All Students']\n",
    "student_enrollment_df = student_enrollment_df[student_enrollment_df['SpecialDemo'] == 'All Students']\n",
    "student_enrollment_df = student_enrollment_df[student_enrollment_df['Grade'] == 'All Students']\n",
    "student_enrollment_df.head()"
   ]
  },
  {
   "cell_type": "markdown",
   "metadata": {},
   "source": [
    "I will now get rid of the demographics columns as they are extraneous. The dataframe includes several measures of enrollment, taken at various times throughout the year. For now I am interested in the FallEnrollment, or enrollment on September 30th, which is the number that determines school funding in the state of Delaware."
   ]
  },
  {
   "cell_type": "code",
   "execution_count": 212,
   "metadata": {},
   "outputs": [
    {
     "data": {
      "text/plain": [
       "Index(['School Year', 'District Code', 'District', 'School Code',\n",
       "       'Organization', 'FallEnrollment'],\n",
       "      dtype='object')"
      ]
     },
     "execution_count": 212,
     "metadata": {},
     "output_type": "execute_result"
    }
   ],
   "source": [
    "student_enrollment_df = student_enrollment_df.drop(columns=['Race', 'Gender', 'SpecialDemo', 'RowStatus', 'SubGroup', 'Geography','EOYEnrollment', \\\n",
    "    'PctOfEOYEnrollment', 'Grade','Students'])\n",
    "student_enrollment_df.columns"
   ]
  },
  {
   "cell_type": "markdown",
   "metadata": {},
   "source": [
    "I will now merge the the two dataframes based on the five columns mentioned earlier."
   ]
  },
  {
   "cell_type": "code",
   "execution_count": 213,
   "metadata": {},
   "outputs": [
    {
     "data": {
      "text/plain": [
       "Index(['School Year', 'District Code', 'District', 'School Code',\n",
       "       'Organization', 'Assessment Name', 'ContentArea', 'PctProficient',\n",
       "       'FallEnrollment'],\n",
       "      dtype='object')"
      ]
     },
     "execution_count": 213,
     "metadata": {},
     "output_type": "execute_result"
    }
   ],
   "source": [
    "merged_df = student_assessment_df.merge(student_enrollment_df, on=['School Year', 'District Code', 'District','School Code', 'Organization'], how='inner')\n",
    "merged_df.columns"
   ]
  },
  {
   "cell_type": "markdown",
   "metadata": {},
   "source": [
    "In addition to data on schools there are also aggregated rows on district and state level. For now I will get rid of them, I am only interested in schools."
   ]
  },
  {
   "cell_type": "code",
   "execution_count": 214,
   "metadata": {},
   "outputs": [],
   "source": [
    "merged_df['FallEnrollment'] = merged_df['FallEnrollment'].astype(float)\n",
    "merged_df = merged_df[merged_df['Organization'].str.contains(\"State\")==False]\n",
    "merged_df = merged_df[merged_df['Organization'].str.contains(\"District\")==False]"
   ]
  },
  {
   "cell_type": "markdown",
   "metadata": {},
   "source": [
    "I realize I do not need quite so many indexes so I drop the district name and code columns."
   ]
  },
  {
   "cell_type": "code",
   "execution_count": 215,
   "metadata": {},
   "outputs": [
    {
     "data": {
      "text/plain": [
       "Index(['School Year', 'School Code', 'Organization', 'Assessment Name',\n",
       "       'ContentArea', 'PctProficient', 'FallEnrollment'],\n",
       "      dtype='object')"
      ]
     },
     "execution_count": 215,
     "metadata": {},
     "output_type": "execute_result"
    }
   ],
   "source": [
    "merged_df = merged_df.drop(columns=['District Code', 'District'])\n",
    "merged_df.columns"
   ]
  },
  {
   "cell_type": "markdown",
   "metadata": {},
   "source": [
    "Now for the final dataset. This dataset includes information about the salaries, age, and experience of different jobs within the state. It also includes counts of each employee in the different jobs, this is what I am interested in."
   ]
  },
  {
   "cell_type": "code",
   "execution_count": 216,
   "metadata": {},
   "outputs": [
    {
     "data": {
      "text/plain": [
       "Index(['School Year', 'District Code', 'District', 'School Code',\n",
       "       'Organization', 'Race', 'Gender', 'Grade', 'SpecialDemo', 'Geography',\n",
       "       'SubGroup', 'Staff Type', 'Staff Category', 'Job Classification',\n",
       "       'Experience', 'Educators (FTE)', 'Average Total Salary',\n",
       "       'Average State Salary', 'Average Local Salary',\n",
       "       'Average Federal Salary', 'Average Years of Experience',\n",
       "       'Average Years of Age'],\n",
       "      dtype='object')"
      ]
     },
     "execution_count": 216,
     "metadata": {},
     "output_type": "execute_result"
    }
   ],
   "source": [
    "educator_df = pd.read_csv('Educator_Average_Salary.csv')\n",
    "educator_df.columns"
   ]
  },
  {
   "cell_type": "markdown",
   "metadata": {},
   "source": [
    "Once again I am interested in all employees and not interested in a demographic breakdown, so I get rid of those columns"
   ]
  },
  {
   "cell_type": "code",
   "execution_count": 217,
   "metadata": {},
   "outputs": [],
   "source": [
    "educator_df = educator_df[educator_df['Race'] == 'All Educators']\n",
    "educator_df = educator_df[educator_df['Gender'] == 'All Educators']\n",
    "educator_df = educator_df[educator_df['SpecialDemo'] == 'All Educators']\n",
    "educator_df = educator_df[educator_df['Experience'] == 'ALL']\n",
    "educator_df = educator_df[educator_df['Organization'].str.contains(\"State\")==False]\n",
    "educator_df = educator_df[educator_df['Organization'].str.contains(\"District\")==False]"
   ]
  },
  {
   "cell_type": "markdown",
   "metadata": {},
   "source": [
    "The column I am interested in is job classification, this is a list of all the different jobs in a school, here I am interested in the categories so I will get rid of the row for all jobs."
   ]
  },
  {
   "cell_type": "code",
   "execution_count": 218,
   "metadata": {},
   "outputs": [],
   "source": [
    "educator_df = educator_df[['School Year', 'School Code', 'Organization', 'Job Classification', 'Educators (FTE)']]\n",
    "educator_df = educator_df[educator_df['Job Classification'] != 'ALL']"
   ]
  },
  {
   "cell_type": "markdown",
   "metadata": {},
   "source": [
    "I create a list of all jobs, for later"
   ]
  },
  {
   "cell_type": "code",
   "execution_count": 219,
   "metadata": {},
   "outputs": [
    {
     "data": {
      "text/plain": [
       "array(['Specialist, Instructional', 'Assistant Superintendent',\n",
       "       'Administrative Assistant', 'Supervisor, Pupil Support',\n",
       "       'Crafts & Trades', 'Technical', 'Supervisor, General Support',\n",
       "       'Custodial', 'Managerial', 'Director', 'Supervisor, Instructional',\n",
       "       'Secretarial', 'Superintendent', 'Cafeteria Worker',\n",
       "       'Specialist, General Support', 'Home Visitor',\n",
       "       'Other Pupil Support', 'Psychologist',\n",
       "       'Teacher, Special Elementary', 'Speech and Hearing Therapist',\n",
       "       'Other Instructional Support', 'Specialist, Pupil Support',\n",
       "       'Teaching & Clerical Aide', 'Teacher, Special Secondary', 'Nurse',\n",
       "       'Teacher, Regular Secondary', 'Social Worker', 'Principal',\n",
       "       'Teacher, Regular Elementary', 'Guidance Counselor',\n",
       "       'Assistant Principal', 'Librarian', 'Service Aide',\n",
       "       'Bus Driver & Laborer', 'Other General Support', 'Psychometrist'],\n",
       "      dtype=object)"
      ]
     },
     "execution_count": 219,
     "metadata": {},
     "output_type": "execute_result"
    }
   ],
   "source": [
    "listofjobs = educator_df['Job Classification'].unique()\n",
    "listofjobs"
   ]
  },
  {
   "cell_type": "markdown",
   "metadata": {},
   "source": [
    "I see that the jobs for teachers are broken down into elementary and secondary classifications. However this is unnecessary because few secondary schools have elementary teachers and vice versa. It could also confuse a model and cause suggestions like elementary schools should hire more high school teachers, and absurdity. I will combine these columns."
   ]
  },
  {
   "cell_type": "code",
   "execution_count": 220,
   "metadata": {},
   "outputs": [
    {
     "data": {
      "text/plain": [
       "Index(['School Year', 'School Code', 'Organization',\n",
       "       'Administrative Assistant', 'Assistant Principal',\n",
       "       'Assistant Superintendent', 'Bus Driver & Laborer', 'Cafeteria Worker',\n",
       "       'Crafts & Trades', 'Custodial', 'Director', 'Guidance Counselor',\n",
       "       'Home Visitor', 'Librarian', 'Managerial', 'Nurse',\n",
       "       'Other General Support', 'Other Instructional Support',\n",
       "       'Other Pupil Support', 'Principal', 'Psychologist', 'Psychometrist',\n",
       "       'Secretarial', 'Service Aide', 'Social Worker',\n",
       "       'Specialist, General Support', 'Specialist, Instructional',\n",
       "       'Specialist, Pupil Support', 'Speech and Hearing Therapist',\n",
       "       'Superintendent', 'Supervisor, General Support',\n",
       "       'Supervisor, Instructional', 'Supervisor, Pupil Support',\n",
       "       'Teacher, Regular Elementary', 'Teacher, Regular Secondary',\n",
       "       'Teacher, Special Elementary', 'Teacher, Special Secondary',\n",
       "       'Teaching & Clerical Aide', 'Technical'],\n",
       "      dtype='object', name='Job Classification')"
      ]
     },
     "execution_count": 220,
     "metadata": {},
     "output_type": "execute_result"
    }
   ],
   "source": [
    "educator_df = pd.pivot(educator_df, index=['School Year', 'School Code', 'Organization'], columns='Job Classification', values='Educators (FTE)')\n",
    "educator_df = educator_df.reset_index()\n",
    "educator_df.columns"
   ]
  },
  {
   "cell_type": "markdown",
   "metadata": {},
   "source": [
    "Fill all NaN rows in teacher count columns with 0, so that the addition works"
   ]
  },
  {
   "cell_type": "code",
   "execution_count": 221,
   "metadata": {},
   "outputs": [],
   "source": [
    "educator_df['Teacher, Regular Elementary'] = educator_df['Teacher, Regular Elementary'].fillna(0)\n",
    "educator_df['Teacher, Special Elementary'] = educator_df['Teacher, Special Elementary'].fillna(0)\n",
    "educator_df['Teacher, Regular Secondary'] = educator_df['Teacher, Regular Secondary'].fillna(0)\n",
    "educator_df['Teacher, Special Secondary'] = educator_df['Teacher, Special Secondary'].fillna(0)"
   ]
  },
  {
   "cell_type": "code",
   "execution_count": 222,
   "metadata": {},
   "outputs": [],
   "source": [
    "educator_df['Teacher, Regular'] = educator_df['Teacher, Regular Elementary'] + educator_df['Teacher, Regular Secondary']\n",
    "educator_df['Teacher, Special'] = educator_df['Teacher, Special Elementary'] + educator_df['Teacher, Special Secondary']"
   ]
  },
  {
   "cell_type": "markdown",
   "metadata": {},
   "source": [
    "Now merge educator_df with the earlier merged_df on the school code, year, and organization columns"
   ]
  },
  {
   "cell_type": "code",
   "execution_count": 223,
   "metadata": {},
   "outputs": [
    {
     "data": {
      "text/html": [
       "<div>\n",
       "<style scoped>\n",
       "    .dataframe tbody tr th:only-of-type {\n",
       "        vertical-align: middle;\n",
       "    }\n",
       "\n",
       "    .dataframe tbody tr th {\n",
       "        vertical-align: top;\n",
       "    }\n",
       "\n",
       "    .dataframe thead th {\n",
       "        text-align: right;\n",
       "    }\n",
       "</style>\n",
       "<table border=\"1\" class=\"dataframe\">\n",
       "  <thead>\n",
       "    <tr style=\"text-align: right;\">\n",
       "      <th></th>\n",
       "      <th>School Year</th>\n",
       "      <th>School Code</th>\n",
       "      <th>Organization</th>\n",
       "      <th>Assessment Name</th>\n",
       "      <th>ContentArea</th>\n",
       "      <th>PctProficient</th>\n",
       "      <th>FallEnrollment</th>\n",
       "      <th>Administrative Assistant</th>\n",
       "      <th>Assistant Principal</th>\n",
       "      <th>Assistant Superintendent</th>\n",
       "      <th>...</th>\n",
       "      <th>Supervisor, Instructional</th>\n",
       "      <th>Supervisor, Pupil Support</th>\n",
       "      <th>Teacher, Regular Elementary</th>\n",
       "      <th>Teacher, Regular Secondary</th>\n",
       "      <th>Teacher, Special Elementary</th>\n",
       "      <th>Teacher, Special Secondary</th>\n",
       "      <th>Teaching &amp; Clerical Aide</th>\n",
       "      <th>Technical</th>\n",
       "      <th>Teacher, Regular</th>\n",
       "      <th>Teacher, Special</th>\n",
       "    </tr>\n",
       "  </thead>\n",
       "  <tbody>\n",
       "    <tr>\n",
       "      <th>0</th>\n",
       "      <td>2015</td>\n",
       "      <td>610</td>\n",
       "      <td>Allen Frear Elementary School</td>\n",
       "      <td>Smarter Balanced Summative Assessment</td>\n",
       "      <td>ELA</td>\n",
       "      <td>69.06</td>\n",
       "      <td>699.0</td>\n",
       "      <td>NaN</td>\n",
       "      <td>NaN</td>\n",
       "      <td>NaN</td>\n",
       "      <td>...</td>\n",
       "      <td>NaN</td>\n",
       "      <td>NaN</td>\n",
       "      <td>35.0</td>\n",
       "      <td>0.0</td>\n",
       "      <td>6.0</td>\n",
       "      <td>0.0</td>\n",
       "      <td>6.0</td>\n",
       "      <td>NaN</td>\n",
       "      <td>35.0</td>\n",
       "      <td>6.0</td>\n",
       "    </tr>\n",
       "    <tr>\n",
       "      <th>1</th>\n",
       "      <td>2015</td>\n",
       "      <td>610</td>\n",
       "      <td>Allen Frear Elementary School</td>\n",
       "      <td>Smarter Balanced Summative Assessment</td>\n",
       "      <td>MATH</td>\n",
       "      <td>59.75</td>\n",
       "      <td>699.0</td>\n",
       "      <td>NaN</td>\n",
       "      <td>NaN</td>\n",
       "      <td>NaN</td>\n",
       "      <td>...</td>\n",
       "      <td>NaN</td>\n",
       "      <td>NaN</td>\n",
       "      <td>35.0</td>\n",
       "      <td>0.0</td>\n",
       "      <td>6.0</td>\n",
       "      <td>0.0</td>\n",
       "      <td>6.0</td>\n",
       "      <td>NaN</td>\n",
       "      <td>35.0</td>\n",
       "      <td>6.0</td>\n",
       "    </tr>\n",
       "    <tr>\n",
       "      <th>2</th>\n",
       "      <td>2015</td>\n",
       "      <td>612</td>\n",
       "      <td>Major George S. Welch Elementary School</td>\n",
       "      <td>Smarter Balanced Summative Assessment</td>\n",
       "      <td>ELA</td>\n",
       "      <td>80.84</td>\n",
       "      <td>436.0</td>\n",
       "      <td>NaN</td>\n",
       "      <td>1.0</td>\n",
       "      <td>NaN</td>\n",
       "      <td>...</td>\n",
       "      <td>NaN</td>\n",
       "      <td>NaN</td>\n",
       "      <td>26.0</td>\n",
       "      <td>0.0</td>\n",
       "      <td>3.0</td>\n",
       "      <td>0.0</td>\n",
       "      <td>5.0</td>\n",
       "      <td>NaN</td>\n",
       "      <td>26.0</td>\n",
       "      <td>3.0</td>\n",
       "    </tr>\n",
       "    <tr>\n",
       "      <th>3</th>\n",
       "      <td>2015</td>\n",
       "      <td>612</td>\n",
       "      <td>Major George S. Welch Elementary School</td>\n",
       "      <td>Smarter Balanced Summative Assessment</td>\n",
       "      <td>MATH</td>\n",
       "      <td>65.12</td>\n",
       "      <td>436.0</td>\n",
       "      <td>NaN</td>\n",
       "      <td>1.0</td>\n",
       "      <td>NaN</td>\n",
       "      <td>...</td>\n",
       "      <td>NaN</td>\n",
       "      <td>NaN</td>\n",
       "      <td>26.0</td>\n",
       "      <td>0.0</td>\n",
       "      <td>3.0</td>\n",
       "      <td>0.0</td>\n",
       "      <td>5.0</td>\n",
       "      <td>NaN</td>\n",
       "      <td>26.0</td>\n",
       "      <td>3.0</td>\n",
       "    </tr>\n",
       "    <tr>\n",
       "      <th>4</th>\n",
       "      <td>2015</td>\n",
       "      <td>616</td>\n",
       "      <td>Nellie Hughes Stokes Elementary School</td>\n",
       "      <td>Smarter Balanced Summative Assessment</td>\n",
       "      <td>ELA</td>\n",
       "      <td>63.08</td>\n",
       "      <td>442.0</td>\n",
       "      <td>NaN</td>\n",
       "      <td>1.0</td>\n",
       "      <td>NaN</td>\n",
       "      <td>...</td>\n",
       "      <td>NaN</td>\n",
       "      <td>NaN</td>\n",
       "      <td>25.0</td>\n",
       "      <td>0.0</td>\n",
       "      <td>8.0</td>\n",
       "      <td>0.0</td>\n",
       "      <td>7.0</td>\n",
       "      <td>NaN</td>\n",
       "      <td>25.0</td>\n",
       "      <td>8.0</td>\n",
       "    </tr>\n",
       "  </tbody>\n",
       "</table>\n",
       "<p>5 rows × 45 columns</p>\n",
       "</div>"
      ],
      "text/plain": [
       "   School Year  School Code                             Organization  \\\n",
       "0         2015          610            Allen Frear Elementary School   \n",
       "1         2015          610            Allen Frear Elementary School   \n",
       "2         2015          612  Major George S. Welch Elementary School   \n",
       "3         2015          612  Major George S. Welch Elementary School   \n",
       "4         2015          616   Nellie Hughes Stokes Elementary School   \n",
       "\n",
       "                         Assessment Name ContentArea  PctProficient  \\\n",
       "0  Smarter Balanced Summative Assessment         ELA          69.06   \n",
       "1  Smarter Balanced Summative Assessment        MATH          59.75   \n",
       "2  Smarter Balanced Summative Assessment         ELA          80.84   \n",
       "3  Smarter Balanced Summative Assessment        MATH          65.12   \n",
       "4  Smarter Balanced Summative Assessment         ELA          63.08   \n",
       "\n",
       "   FallEnrollment  Administrative Assistant  Assistant Principal  \\\n",
       "0           699.0                       NaN                  NaN   \n",
       "1           699.0                       NaN                  NaN   \n",
       "2           436.0                       NaN                  1.0   \n",
       "3           436.0                       NaN                  1.0   \n",
       "4           442.0                       NaN                  1.0   \n",
       "\n",
       "   Assistant Superintendent  ...  Supervisor, Instructional  \\\n",
       "0                       NaN  ...                        NaN   \n",
       "1                       NaN  ...                        NaN   \n",
       "2                       NaN  ...                        NaN   \n",
       "3                       NaN  ...                        NaN   \n",
       "4                       NaN  ...                        NaN   \n",
       "\n",
       "   Supervisor, Pupil Support  Teacher, Regular Elementary  \\\n",
       "0                        NaN                         35.0   \n",
       "1                        NaN                         35.0   \n",
       "2                        NaN                         26.0   \n",
       "3                        NaN                         26.0   \n",
       "4                        NaN                         25.0   \n",
       "\n",
       "   Teacher, Regular Secondary  Teacher, Special Elementary  \\\n",
       "0                         0.0                          6.0   \n",
       "1                         0.0                          6.0   \n",
       "2                         0.0                          3.0   \n",
       "3                         0.0                          3.0   \n",
       "4                         0.0                          8.0   \n",
       "\n",
       "   Teacher, Special Secondary  Teaching & Clerical Aide  Technical  \\\n",
       "0                         0.0                       6.0        NaN   \n",
       "1                         0.0                       6.0        NaN   \n",
       "2                         0.0                       5.0        NaN   \n",
       "3                         0.0                       5.0        NaN   \n",
       "4                         0.0                       7.0        NaN   \n",
       "\n",
       "   Teacher, Regular  Teacher, Special  \n",
       "0              35.0               6.0  \n",
       "1              35.0               6.0  \n",
       "2              26.0               3.0  \n",
       "3              26.0               3.0  \n",
       "4              25.0               8.0  \n",
       "\n",
       "[5 rows x 45 columns]"
      ]
     },
     "execution_count": 223,
     "metadata": {},
     "output_type": "execute_result"
    }
   ],
   "source": [
    "df = merged_df.merge(educator_df, on=['School Year', 'School Code', 'Organization'], how='inner')\n",
    "df.head()"
   ]
  },
  {
   "cell_type": "markdown",
   "metadata": {},
   "source": [
    "Now find the students per teacher columns"
   ]
  },
  {
   "cell_type": "code",
   "execution_count": 224,
   "metadata": {},
   "outputs": [],
   "source": [
    "df['Students Per Teacher, Regular'] = df['FallEnrollment'] / df['Teacher, Regular']\n",
    "df['Students Per Teacher, Special'] = df['FallEnrollment'] / df['Teacher, Special']\n",
    "\n",
    "del merged_df\n",
    "del student_assessment_df\n",
    "del student_enrollment_df\n",
    "del educator_df"
   ]
  },
  {
   "cell_type": "markdown",
   "metadata": {},
   "source": [
    "Now I will do the same operation and find the students per staff of all types of staff, additionally I will drop the normal count columns"
   ]
  },
  {
   "cell_type": "code",
   "execution_count": 225,
   "metadata": {},
   "outputs": [],
   "source": [
    "for item in listofjobs:\n",
    "    df['Students Per ' + str(item)] = df['FallEnrollment'] / df[item]\n",
    "    df = df.drop(item, axis=1)"
   ]
  },
  {
   "cell_type": "markdown",
   "metadata": {},
   "source": [
    "The earlier division has the possibility of division by zero. I will deal with this by changing the infinite cells to zero."
   ]
  },
  {
   "cell_type": "code",
   "execution_count": 226,
   "metadata": {},
   "outputs": [
    {
     "data": {
      "text/plain": [
       "(4479, 41)"
      ]
     },
     "execution_count": 226,
     "metadata": {},
     "output_type": "execute_result"
    }
   ],
   "source": [
    "df = df.drop(['Teacher, Regular','Teacher, Special','Students Per Teacher, Regular Elementary', 'Students Per Teacher, Special Elementary', \\\n",
    "    'Students Per Teacher, Regular Secondary', 'Students Per Teacher, Special Secondary'], axis=1)\n",
    "df = df.replace([np.inf, -np.inf], np.nan)\n",
    "\n",
    "df.shape"
   ]
  },
  {
   "cell_type": "markdown",
   "metadata": {},
   "source": [
    "Now view the final dataframe and write it to a file."
   ]
  },
  {
   "cell_type": "code",
   "execution_count": 204,
   "metadata": {},
   "outputs": [],
   "source": [
    "df.to_csv('df.csv', index=False)"
   ]
  }
 ],
 "metadata": {
  "kernelspec": {
   "display_name": "Python 3.10.4 64-bit",
   "language": "python",
   "name": "python3"
  },
  "language_info": {
   "codemirror_mode": {
    "name": "ipython",
    "version": 3
   },
   "file_extension": ".py",
   "mimetype": "text/x-python",
   "name": "python",
   "nbconvert_exporter": "python",
   "pygments_lexer": "ipython3",
   "version": "3.10.4"
  },
  "orig_nbformat": 4,
  "vscode": {
   "interpreter": {
    "hash": "916dbcbb3f70747c44a77c7bcd40155683ae19c65e1c03b4aa3499c5328201f1"
   }
  }
 },
 "nbformat": 4,
 "nbformat_minor": 2
}
